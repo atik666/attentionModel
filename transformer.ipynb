{
  "nbformat": 4,
  "nbformat_minor": 0,
  "metadata": {
    "colab": {
      "name": "transformer.ipynb",
      "provenance": [],
      "collapsed_sections": [],
      "authorship_tag": "ABX9TyOpynqf3c2jJ4SXob3jk8MI",
      "include_colab_link": true
    },
    "kernelspec": {
      "name": "python3",
      "display_name": "Python 3"
    },
    "language_info": {
      "name": "python"
    },
    "accelerator": "GPU"
  },
  "cells": [
    {
      "cell_type": "markdown",
      "metadata": {
        "id": "view-in-github",
        "colab_type": "text"
      },
      "source": [
        "<a href=\"https://colab.research.google.com/github/atik666/attentionModel/blob/cloab/transformer.ipynb\" target=\"_parent\"><img src=\"https://colab.research.google.com/assets/colab-badge.svg\" alt=\"Open In Colab\"/></a>"
      ]
    },
    {
      "cell_type": "code",
      "metadata": {
        "colab": {
          "base_uri": "https://localhost:8080/"
        },
        "id": "xC7OUx6TXnW_",
        "outputId": "7889b39d-dbbe-4ce0-fa8c-5dfffdf28178"
      },
      "source": [
        "pip install -U tensorflow-addons"
      ],
      "execution_count": 56,
      "outputs": [
        {
          "output_type": "stream",
          "name": "stdout",
          "text": [
            "Requirement already satisfied: tensorflow-addons in /usr/local/lib/python3.7/dist-packages (0.14.0)\n",
            "Requirement already satisfied: typeguard>=2.7 in /usr/local/lib/python3.7/dist-packages (from tensorflow-addons) (2.7.1)\n"
          ]
        }
      ]
    },
    {
      "cell_type": "code",
      "metadata": {
        "colab": {
          "base_uri": "https://localhost:8080/"
        },
        "id": "K--hBH4FXvc9",
        "outputId": "4723f69e-1b17-4600-e9f1-129be22f15e6"
      },
      "source": [
        "from google.colab import drive\n",
        "drive.mount('/content/drive')"
      ],
      "execution_count": 57,
      "outputs": [
        {
          "output_type": "stream",
          "name": "stdout",
          "text": [
            "Drive already mounted at /content/drive; to attempt to forcibly remount, call drive.mount(\"/content/drive\", force_remount=True).\n"
          ]
        }
      ]
    },
    {
      "cell_type": "code",
      "metadata": {
        "id": "2mZeV0VWVkTY"
      },
      "source": [
        "import numpy as np\n",
        "import tensorflow as tf\n",
        "from tensorflow import keras\n",
        "from tensorflow.keras import layers\n",
        "import tensorflow_addons as tfa\n",
        "import matplotlib.pyplot as plt\n",
        "import random\n",
        "import cv2\n",
        "import pandas as pd"
      ],
      "execution_count": 58,
      "outputs": []
    },
    {
      "cell_type": "code",
      "metadata": {
        "id": "cUB2sC1uXPp-"
      },
      "source": [
        "data = np.load(\"/content/drive/MyDrive/Colab/encoder/cwtX.npy\")\n",
        "label = np.load(\"/content/drive/MyDrive/Colab/encoder/y.npy\")\n",
        "data = np.delete(data, np.s_[400:800], axis=0)\n",
        "data = np.delete(data, np.s_[600:1000], axis=0)\n",
        "data = np.delete(data, np.s_[800:1200], axis=0)\n",
        "label = np.concatenate((np.zeros(200), np.zeros(200)+1, np.zeros(200)+2, np.zeros(200)+3), axis=0)\n",
        "from sklearn.model_selection import train_test_split\n",
        "x_train, x_rem, y_train, y_rem = train_test_split(data,label, train_size=0.5, stratify=label)\n",
        "x_val, x_test, y_val, y_test = train_test_split(x_rem,y_rem, test_size=0.5, stratify=y_rem)"
      ],
      "execution_count": 59,
      "outputs": []
    },
    {
      "cell_type": "code",
      "metadata": {
        "colab": {
          "base_uri": "https://localhost:8080/"
        },
        "id": "c66t-Vrdvzgn",
        "outputId": "92ea64fc-388b-4bae-9c14-3d607b0fa7ab"
      },
      "source": [
        "label[799]"
      ],
      "execution_count": 60,
      "outputs": [
        {
          "output_type": "execute_result",
          "data": {
            "text/plain": [
              "3.0"
            ]
          },
          "metadata": {},
          "execution_count": 60
        }
      ]
    },
    {
      "cell_type": "code",
      "metadata": {
        "colab": {
          "base_uri": "https://localhost:8080/",
          "height": 268
        },
        "id": "8vM_QBlL4rHD",
        "outputId": "8042f0b0-2f25-4d1b-b3a0-91b2029fb178"
      },
      "source": [
        "image_x = random.randint(0, len(x_train))\n",
        "\n",
        "img1 = cv2.cvtColor(x_train[image_x], cv2.COLOR_BGR2RGB)\n",
        "plt.imshow(img1)\n",
        "plt.show()"
      ],
      "execution_count": 61,
      "outputs": [
        {
          "output_type": "display_data",
          "data": {
            "image/png": "[encoded data removed]",
            "text/plain": [
              "<Figure size 432x288 with 1 Axes>"
            ]
          },
          "metadata": {
            "needs_background": "light"
          }
        }
      ]
    },
    {
      "cell_type": "code",
      "metadata": {
        "id": "i4sqYrnTVp4O"
      },
      "source": [
        "num_classes = 10\n",
        "input_shape = (64, 64, 3)\n",
        "learning_rate = 0.001\n",
        "weight_decay = 0.0001\n",
        "batch_size = 16\n",
        "num_epochs = 50\n",
        "image_size = 64  # We'll resize input images to this size\n",
        "patch_size = 4  # Size of the patches to be extract from the input images\n",
        "num_patches = (image_size // patch_size) ** 2\n",
        "projection_dim = 64\n",
        "num_heads = 4\n",
        "transformer_units = [\n",
        "    projection_dim * 2,\n",
        "    projection_dim,\n",
        "]  # Size of the transformer layers\n",
        "transformer_layers = 8\n",
        "mlp_head_units = [2048, 1024]  # Size of the dense layers of the final classifier"
      ],
      "execution_count": 62,
      "outputs": []
    },
    {
      "cell_type": "code",
      "metadata": {
        "id": "fDR0dI2aWomR"
      },
      "source": [
        "data_augmentation = keras.Sequential(\n",
        "    [\n",
        "        layers.Normalization(),\n",
        "        layers.Resizing(image_size, image_size),\n",
        "    ],\n",
        "    name=\"data_augmentation\",\n",
        ")\n",
        "# Compute the mean and the variance of the training data for normalization.\n",
        "data_augmentation.layers[0].adapt(x_train)"
      ],
      "execution_count": 63,
      "outputs": []
    },
    {
      "cell_type": "code",
      "metadata": {
        "id": "kdx7n2_LWvQR"
      },
      "source": [
        "def mlp(x, hidden_units, dropout_rate):\n",
        "    for units in hidden_units:\n",
        "        x = layers.Dense(units, activation=tf.nn.gelu)(x)\n",
        "        x = layers.Dropout(dropout_rate)(x)\n",
        "    return x"
      ],
      "execution_count": 64,
      "outputs": []
    },
    {
      "cell_type": "code",
      "metadata": {
        "id": "CVqifvmBWxdo"
      },
      "source": [
        "class Patches(layers.Layer):\n",
        "    def __init__(self, patch_size):\n",
        "        super(Patches, self).__init__()\n",
        "        self.patch_size = patch_size\n",
        "\n",
        "    def call(self, images):\n",
        "        batch_size = tf.shape(images)[0]\n",
        "        patches = tf.image.extract_patches(\n",
        "            images=images,\n",
        "            sizes=[1, self.patch_size, self.patch_size, 1],\n",
        "            strides=[1, self.patch_size, self.patch_size, 1],\n",
        "            rates=[1, 1, 1, 1],\n",
        "            padding=\"VALID\",\n",
        "        )\n",
        "        patch_dims = patches.shape[-1]\n",
        "        patches = tf.reshape(patches, [batch_size, -1, patch_dims])\n",
        "        return patches"
      ],
      "execution_count": 65,
      "outputs": []
    },
    {
      "cell_type": "code",
      "metadata": {
        "id": "ORfufgUtWyHh"
      },
      "source": [
        "class PatchEncoder(layers.Layer):\n",
        "    def __init__(self, num_patches, projection_dim):\n",
        "        super(PatchEncoder, self).__init__()\n",
        "        self.num_patches = num_patches\n",
        "        self.projection = layers.Dense(units=projection_dim)\n",
        "        self.position_embedding = layers.Embedding(\n",
        "            input_dim=num_patches, output_dim=projection_dim\n",
        "        )\n",
        "\n",
        "    def call(self, patch):\n",
        "        positions = tf.range(start=0, limit=self.num_patches, delta=1)\n",
        "        encoded = self.projection(patch) + self.position_embedding(positions)\n",
        "        return encoded"
      ],
      "execution_count": 66,
      "outputs": []
    },
    {
      "cell_type": "code",
      "metadata": {
        "id": "Hhm8S-eHW3XA"
      },
      "source": [
        "def create_vit_classifier():\n",
        "    inputs = layers.Input(shape=input_shape)\n",
        "    # Augment data.\n",
        "    augmented = data_augmentation(inputs)\n",
        "    # Create patches.\n",
        "    patches = Patches(patch_size)(augmented)\n",
        "    # Encode patches.\n",
        "    encoded_patches = PatchEncoder(num_patches, projection_dim)(patches)\n",
        "\n",
        "    # Create multiple layers of the Transformer block.\n",
        "    for _ in range(transformer_layers):\n",
        "        # Layer normalization 1.\n",
        "        x1 = layers.LayerNormalization(epsilon=1e-6)(encoded_patches)\n",
        "        # Create a multi-head attention layer.\n",
        "        attention_output = layers.MultiHeadAttention(\n",
        "            num_heads=num_heads, key_dim=projection_dim, dropout=0.1\n",
        "        )(x1, x1)\n",
        "        # Skip connection 1.\n",
        "        x2 = layers.Add()([attention_output, encoded_patches])\n",
        "        # Layer normalization 2.\n",
        "        x3 = layers.LayerNormalization(epsilon=1e-6)(x2)\n",
        "        # MLP.\n",
        "        x3 = mlp(x3, hidden_units=transformer_units, dropout_rate=0.1)\n",
        "        # Skip connection 2.\n",
        "        encoded_patches = layers.Add()([x3, x2])\n",
        "\n",
        "    # Create a [batch_size, projection_dim] tensor.\n",
        "    representation = layers.LayerNormalization(epsilon=1e-6)(encoded_patches)\n",
        "    representation = layers.Flatten()(representation)\n",
        "    representation = layers.Dropout(0.5)(representation)\n",
        "    # Add MLP.\n",
        "    features = mlp(representation, hidden_units=mlp_head_units, dropout_rate=0.5)\n",
        "    # Classify outputs.\n",
        "    logits = layers.Dense(num_classes)(features)\n",
        "    # Create the Keras model.\n",
        "    model = keras.Model(inputs=inputs, outputs=logits)\n",
        "    return model"
      ],
      "execution_count": 67,
      "outputs": []
    },
    {
      "cell_type": "code",
      "metadata": {
        "id": "_r4Sq47OW6Dv",
        "colab": {
          "base_uri": "https://localhost:8080/"
        },
        "outputId": "1b54c6a4-f3ab-466f-9b3a-6fee85fdf3fa"
      },
      "source": [
        "def run_experiment(model):\n",
        "    optimizer = tfa.optimizers.AdamW(\n",
        "        learning_rate=learning_rate, weight_decay=weight_decay\n",
        "    )\n",
        "\n",
        "    model.compile(\n",
        "        optimizer=optimizer,\n",
        "        loss=keras.losses.SparseCategoricalCrossentropy(from_logits=True),\n",
        "        metrics=['accuracy'])\n",
        "\n",
        "    history = model.fit(\n",
        "        x=x_train,\n",
        "        y=y_train,\n",
        "        validation_data = (x_val, y_val),\n",
        "        batch_size=batch_size,\n",
        "        epochs=num_epochs,\n",
        "    )\n",
        "\n",
        "    _, accuracy = model.evaluate(x_test, y_test)\n",
        "    print(f\"Test accuracy: {round(accuracy * 100, 2)}%\")\n",
        "\n",
        "    return history, model\n",
        "\n",
        "vit_classifier = create_vit_classifier()\n",
        "history, model = run_experiment(vit_classifier)"
      ],
      "execution_count": 68,
      "outputs": [
        {
          "output_type": "stream",
          "name": "stdout",
          "text": [
            "Epoch 1/50\n",
            "25/25 [==============================] - 14s 224ms/step - loss: 2.3364 - accuracy: 0.8225 - val_loss: 3.7104e-06 - val_accuracy: 1.0000\n",
            "Epoch 2/50\n",
            "25/25 [==============================] - 4s 165ms/step - loss: 1.1577 - accuracy: 0.9550 - val_loss: 7.0810 - val_accuracy: 0.8800\n",
            "Epoch 3/50\n",
            "25/25 [==============================] - 4s 166ms/step - loss: 3.7379 - accuracy: 0.9375 - val_loss: 0.3042 - val_accuracy: 0.9750\n",
            "Epoch 4/50\n",
            "25/25 [==============================] - 4s 166ms/step - loss: 0.3054 - accuracy: 0.9825 - val_loss: 2.2709e-07 - val_accuracy: 1.0000\n",
            "Epoch 5/50\n",
            "25/25 [==============================] - 4s 166ms/step - loss: 0.1835 - accuracy: 0.9950 - val_loss: 0.0000e+00 - val_accuracy: 1.0000\n",
            "Epoch 6/50\n",
            "25/25 [==============================] - 4s 167ms/step - loss: 0.2801 - accuracy: 0.9925 - val_loss: 0.0000e+00 - val_accuracy: 1.0000\n",
            "Epoch 7/50\n",
            "25/25 [==============================] - 4s 166ms/step - loss: 0.0013 - accuracy: 1.0000 - val_loss: 0.0000e+00 - val_accuracy: 1.0000\n",
            "Epoch 8/50\n",
            "25/25 [==============================] - 4s 167ms/step - loss: 0.0000e+00 - accuracy: 1.0000 - val_loss: 0.0000e+00 - val_accuracy: 1.0000\n",
            "Epoch 9/50\n",
            "25/25 [==============================] - 4s 166ms/step - loss: 0.0000e+00 - accuracy: 1.0000 - val_loss: 0.0000e+00 - val_accuracy: 1.0000\n",
            "Epoch 10/50\n",
            "25/25 [==============================] - 4s 166ms/step - loss: 0.0000e+00 - accuracy: 1.0000 - val_loss: 0.0000e+00 - val_accuracy: 1.0000\n",
            "Epoch 11/50\n",
            "25/25 [==============================] - 4s 167ms/step - loss: 0.0000e+00 - accuracy: 1.0000 - val_loss: 0.0000e+00 - val_accuracy: 1.0000\n",
            "Epoch 12/50\n",
            "25/25 [==============================] - 4s 167ms/step - loss: 0.0000e+00 - accuracy: 1.0000 - val_loss: 0.0000e+00 - val_accuracy: 1.0000\n",
            "Epoch 13/50\n",
            "25/25 [==============================] - 4s 167ms/step - loss: 1.2219e-08 - accuracy: 1.0000 - val_loss: 0.0000e+00 - val_accuracy: 1.0000\n",
            "Epoch 14/50\n",
            "25/25 [==============================] - 4s 167ms/step - loss: 0.0000e+00 - accuracy: 1.0000 - val_loss: 0.0000e+00 - val_accuracy: 1.0000\n",
            "Epoch 15/50\n",
            "25/25 [==============================] - 4s 167ms/step - loss: 2.8340e-07 - accuracy: 1.0000 - val_loss: 0.0000e+00 - val_accuracy: 1.0000\n",
            "Epoch 16/50\n",
            "25/25 [==============================] - 4s 166ms/step - loss: 0.0000e+00 - accuracy: 1.0000 - val_loss: 0.0000e+00 - val_accuracy: 1.0000\n",
            "Epoch 17/50\n",
            "25/25 [==============================] - 4s 166ms/step - loss: 0.0000e+00 - accuracy: 1.0000 - val_loss: 0.0000e+00 - val_accuracy: 1.0000\n",
            "Epoch 18/50\n",
            "25/25 [==============================] - 4s 167ms/step - loss: 0.0000e+00 - accuracy: 1.0000 - val_loss: 0.0000e+00 - val_accuracy: 1.0000\n",
            "Epoch 19/50\n",
            "25/25 [==============================] - 4s 168ms/step - loss: 0.0000e+00 - accuracy: 1.0000 - val_loss: 0.0000e+00 - val_accuracy: 1.0000\n",
            "Epoch 20/50\n",
            "25/25 [==============================] - 4s 167ms/step - loss: 0.0000e+00 - accuracy: 1.0000 - val_loss: 0.0000e+00 - val_accuracy: 1.0000\n",
            "Epoch 21/50\n",
            "25/25 [==============================] - 4s 166ms/step - loss: 0.0000e+00 - accuracy: 1.0000 - val_loss: 0.0000e+00 - val_accuracy: 1.0000\n",
            "Epoch 22/50\n",
            "25/25 [==============================] - 4s 168ms/step - loss: 0.2029 - accuracy: 0.9925 - val_loss: 0.1834 - val_accuracy: 0.9900\n",
            "Epoch 23/50\n",
            "25/25 [==============================] - 4s 167ms/step - loss: 0.6444 - accuracy: 0.9900 - val_loss: 3.1378 - val_accuracy: 0.9700\n",
            "Epoch 24/50\n",
            "25/25 [==============================] - 4s 167ms/step - loss: 1.1751 - accuracy: 0.9800 - val_loss: 0.0000e+00 - val_accuracy: 1.0000\n",
            "Epoch 25/50\n",
            "25/25 [==============================] - 4s 167ms/step - loss: 4.5149 - accuracy: 0.9650 - val_loss: 0.0000e+00 - val_accuracy: 1.0000\n",
            "Epoch 26/50\n",
            "25/25 [==============================] - 4s 167ms/step - loss: 0.4365 - accuracy: 0.9875 - val_loss: 0.0000e+00 - val_accuracy: 1.0000\n",
            "Epoch 27/50\n",
            "25/25 [==============================] - 4s 167ms/step - loss: 0.2852 - accuracy: 0.9975 - val_loss: 0.3562 - val_accuracy: 0.9950\n",
            "Epoch 28/50\n",
            "25/25 [==============================] - 4s 168ms/step - loss: 2.2704 - accuracy: 0.9850 - val_loss: 11.9314 - val_accuracy: 0.9150\n",
            "Epoch 29/50\n",
            "25/25 [==============================] - 4s 168ms/step - loss: 2.7695 - accuracy: 0.9850 - val_loss: 0.0000e+00 - val_accuracy: 1.0000\n",
            "Epoch 30/50\n",
            "25/25 [==============================] - 4s 168ms/step - loss: 2.5868 - accuracy: 0.9950 - val_loss: 0.0000e+00 - val_accuracy: 1.0000\n",
            "Epoch 31/50\n",
            "25/25 [==============================] - 4s 167ms/step - loss: 0.5250 - accuracy: 0.9950 - val_loss: 0.0000e+00 - val_accuracy: 1.0000\n",
            "Epoch 32/50\n",
            "25/25 [==============================] - 4s 167ms/step - loss: 0.0000e+00 - accuracy: 1.0000 - val_loss: 0.0000e+00 - val_accuracy: 1.0000\n",
            "Epoch 33/50\n",
            "25/25 [==============================] - 4s 167ms/step - loss: 0.3656 - accuracy: 0.9925 - val_loss: 0.0000e+00 - val_accuracy: 1.0000\n",
            "Epoch 34/50\n",
            "25/25 [==============================] - 4s 167ms/step - loss: 0.0361 - accuracy: 0.9975 - val_loss: 0.0000e+00 - val_accuracy: 1.0000\n",
            "Epoch 35/50\n",
            "25/25 [==============================] - 4s 167ms/step - loss: 0.5228 - accuracy: 0.9950 - val_loss: 2.2873 - val_accuracy: 0.9950\n",
            "Epoch 36/50\n",
            "25/25 [==============================] - 4s 166ms/step - loss: 9.3267 - accuracy: 0.9625 - val_loss: 67.2887 - val_accuracy: 0.8000\n",
            "Epoch 37/50\n",
            "25/25 [==============================] - 4s 167ms/step - loss: 8.6565 - accuracy: 0.9750 - val_loss: 4.1723e-09 - val_accuracy: 1.0000\n",
            "Epoch 38/50\n",
            "25/25 [==============================] - 4s 166ms/step - loss: 4.7431e-05 - accuracy: 1.0000 - val_loss: 1.0176e-04 - val_accuracy: 1.0000\n",
            "Epoch 39/50\n",
            "25/25 [==============================] - 4s 167ms/step - loss: 0.0000e+00 - accuracy: 1.0000 - val_loss: 0.0064 - val_accuracy: 0.9950\n",
            "Epoch 40/50\n",
            "25/25 [==============================] - 4s 168ms/step - loss: 0.3218 - accuracy: 0.9975 - val_loss: 0.1918 - val_accuracy: 0.9950\n",
            "Epoch 41/50\n",
            "25/25 [==============================] - 4s 167ms/step - loss: 0.6380 - accuracy: 0.9950 - val_loss: 0.2478 - val_accuracy: 0.9950\n",
            "Epoch 42/50\n",
            "25/25 [==============================] - 4s 168ms/step - loss: 0.0687 - accuracy: 0.9975 - val_loss: 0.0000e+00 - val_accuracy: 1.0000\n",
            "Epoch 43/50\n",
            "25/25 [==============================] - 4s 166ms/step - loss: 0.1098 - accuracy: 0.9975 - val_loss: 1.2850 - val_accuracy: 0.9900\n",
            "Epoch 44/50\n",
            "25/25 [==============================] - 4s 167ms/step - loss: 0.0000e+00 - accuracy: 1.0000 - val_loss: 2.0088 - val_accuracy: 0.9900\n",
            "Epoch 45/50\n",
            "25/25 [==============================] - 4s 167ms/step - loss: 0.9920 - accuracy: 0.9900 - val_loss: 0.0000e+00 - val_accuracy: 1.0000\n",
            "Epoch 46/50\n",
            "25/25 [==============================] - 4s 167ms/step - loss: 0.0000e+00 - accuracy: 1.0000 - val_loss: 3.4751 - val_accuracy: 0.9800\n",
            "Epoch 47/50\n",
            "25/25 [==============================] - 4s 166ms/step - loss: 3.8597e-06 - accuracy: 1.0000 - val_loss: 3.9833 - val_accuracy: 0.9800\n",
            "Epoch 48/50\n",
            "25/25 [==============================] - 4s 166ms/step - loss: 0.0000e+00 - accuracy: 1.0000 - val_loss: 3.9329 - val_accuracy: 0.9800\n",
            "Epoch 49/50\n",
            "25/25 [==============================] - 4s 167ms/step - loss: 0.1597 - accuracy: 0.9975 - val_loss: 0.0000e+00 - val_accuracy: 1.0000\n",
            "Epoch 50/50\n",
            "25/25 [==============================] - 4s 168ms/step - loss: 0.1884 - accuracy: 0.9975 - val_loss: 0.0000e+00 - val_accuracy: 1.0000\n",
            "7/7 [==============================] - 1s 89ms/step - loss: 0.0000e+00 - accuracy: 1.0000\n",
            "Test accuracy: 100.0%\n"
          ]
        }
      ]
    },
    {
      "cell_type": "code",
      "metadata": {
        "colab": {
          "base_uri": "https://localhost:8080/",
          "height": 660
        },
        "id": "0LhWhQfRwUka",
        "outputId": "562ae1d3-665e-4464-b6aa-52c1a91df0d7"
      },
      "source": [
        "def plot_loss(loss,val_loss):\n",
        "  plt.figure()\n",
        "  plt.plot(loss)\n",
        "  plt.plot(val_loss)\n",
        "  plt.title('Model loss')\n",
        "  plt.ylabel('Loss')\n",
        "  plt.xlabel('Epoch')\n",
        "  plt.legend(['Train', 'Validation'], loc='upper right')\n",
        "  plt.show()\n",
        "\n",
        "def plot_accuracy(acc,val_acc):\n",
        "  # Plot training & validation accuracy values\n",
        "  plt.figure()\n",
        "  plt.plot(acc)\n",
        "  plt.plot(val_acc)\n",
        "  plt.title('Model accuracy')\n",
        "  plt.ylabel('Accuracy')\n",
        "  plt.xlabel('Epoch')\n",
        "  plt.legend(['Train', 'Validation'], loc='lower right')\n",
        "  plt.show()\n",
        "\n",
        "# Plot train vs test loss during training\n",
        "plot_loss(history.history['loss'], history.history['val_loss'])\n",
        "\n",
        "# Plot train vs test accuracy during training\n",
        "plot_accuracy(history.history['accuracy'], history.history['val_accuracy'])\n",
        "\n",
        "from sklearn.metrics import confusion_matrix\n",
        "pred = model.predict(x_test)\n",
        "pred = pred.argmax(axis = 1)\n",
        "conf = confusion_matrix(y_test, pred)\n",
        "print(conf)\n",
        "print('acc : ', np.trace(conf)/np.sum(conf)*100)"
      ],
      "execution_count": 69,
      "outputs": [
        {
          "output_type": "display_data",
          "data": {
            "image/png": "[encoded data removed]",
            "text/plain": [
              "<Figure size 432x288 with 1 Axes>"
            ]
          },
          "metadata": {
            "needs_background": "light"
          }
        },
        {
          "output_type": "display_data",
          "data": {
            "image/png": "[encoded data removed]",
            "text/plain": [
              "<Figure size 432x288 with 1 Axes>"
            ]
          },
          "metadata": {
            "needs_background": "light"
          }
        },
        {
          "output_type": "stream",
          "name": "stdout",
          "text": [
            "[[50  0  0  0]\n",
            " [ 0 50  0  0]\n",
            " [ 0  0 50  0]\n",
            " [ 0  0  0 50]]\n",
            "acc :  100.0\n"
          ]
        }
      ]
    },
    {
      "cell_type": "code",
      "metadata": {
        "colab": {
          "base_uri": "https://localhost:8080/"
        },
        "id": "rlLg3IuC7Gmt",
        "outputId": "fdb63787-3e0d-4489-8a2e-35092063436d"
      },
      "source": [
        "x_test1 = np.load(\"/content/drive/MyDrive/Colab/encoder/load/1X_test.npy\")\n",
        "y_test1 = np.load(\"/content/drive/MyDrive/Colab/encoder/load/1y_test.npy\")\n",
        "x_test1 = np.delete(x_test1, np.s_[100:200], axis=0)\n",
        "x_test1 = np.delete(x_test1, np.s_[150:250], axis=0)\n",
        "x_test1 = np.delete(x_test1, np.s_[200:300], axis=0)\n",
        "y_test1 = np.concatenate((np.zeros(50), np.zeros(50)+1, np.zeros(50)+2, np.zeros(50)+3), axis=0)\n",
        "_, accuracy = model.evaluate(x_test1, y_test1)\n",
        "print(f\"Test accuracy: {round(accuracy * 100, 2)}%\")\n",
        "pred = model.predict(x_test1)\n",
        "pred = pred.argmax(axis = 1)\n",
        "conf = confusion_matrix(y_test1, pred)\n",
        "print(conf)"
      ],
      "execution_count": 70,
      "outputs": [
        {
          "output_type": "stream",
          "name": "stdout",
          "text": [
            "7/7 [==============================] - 1s 72ms/step - loss: 17.5490 - accuracy: 0.9250\n",
            "Test accuracy: 92.5%\n",
            "[[49  0  0  1]\n",
            " [ 0 36  0 14]\n",
            " [ 0  0 50  0]\n",
            " [ 0  0  0 50]]\n"
          ]
        }
      ]
    }
  ]
}