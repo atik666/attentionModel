{
  "nbformat": 4,
  "nbformat_minor": 0,
  "metadata": {
    "colab": {
      "name": "transformer.ipynb",
      "provenance": [],
      "collapsed_sections": [],
      "authorship_tag": "ABX9TyNBzB2qqwBzEG5VY1WXx70V",
      "include_colab_link": true
    },
    "kernelspec": {
      "name": "python3",
      "display_name": "Python 3"
    },
    "language_info": {
      "name": "python"
    },
    "accelerator": "GPU"
  },
  "cells": [
    {
      "cell_type": "markdown",
      "metadata": {
        "id": "view-in-github",
        "colab_type": "text"
      },
      "source": [
        "<a href=\"https://colab.research.google.com/github/atik666/attentionModel/blob/cloab/transformer.ipynb\" target=\"_parent\"><img src=\"https://colab.research.google.com/assets/colab-badge.svg\" alt=\"Open In Colab\"/></a>"
      ]
    },
    {
      "cell_type": "code",
      "metadata": {
        "colab": {
          "base_uri": "https://localhost:8080/"
        },
        "id": "xC7OUx6TXnW_",
        "outputId": "7fb23259-1cbf-4c58-d07c-51b5a40d6a4d"
      },
      "source": [
        "pip install -U tensorflow-addons"
      ],
      "execution_count": null,
      "outputs": [
        {
          "output_type": "stream",
          "name": "stdout",
          "text": [
            "Requirement already satisfied: tensorflow-addons in /usr/local/lib/python3.7/dist-packages (0.14.0)\n",
            "Requirement already satisfied: typeguard>=2.7 in /usr/local/lib/python3.7/dist-packages (from tensorflow-addons) (2.7.1)\n"
          ]
        }
      ]
    },
    {
      "cell_type": "code",
      "metadata": {
        "colab": {
          "base_uri": "https://localhost:8080/"
        },
        "id": "K--hBH4FXvc9",
        "outputId": "003f597f-9361-485a-b9a8-c7dcc215c988"
      },
      "source": [
        "from google.colab import drive\n",
        "drive.mount('/content/drive')"
      ],
      "execution_count": null,
      "outputs": [
        {
          "output_type": "stream",
          "name": "stdout",
          "text": [
            "Drive already mounted at /content/drive; to attempt to forcibly remount, call drive.mount(\"/content/drive\", force_remount=True).\n"
          ]
        }
      ]
    },
    {
      "cell_type": "code",
      "metadata": {
        "id": "2mZeV0VWVkTY"
      },
      "source": [
        "import numpy as np\n",
        "import tensorflow as tf\n",
        "from tensorflow import keras\n",
        "from tensorflow.keras import layers\n",
        "import tensorflow_addons as tfa"
      ],
      "execution_count": null,
      "outputs": []
    },
    {
      "cell_type": "code",
      "metadata": {
        "id": "cUB2sC1uXPp-"
      },
      "source": [
        "data = np.load(\"/content/drive/MyDrive/Colab/encoder/cwtX.npy\")\n",
        "label = np.load(\"/content/drive/MyDrive/Colab/encoder/cwty.npy\")\n",
        "from sklearn.model_selection import train_test_split\n",
        "x_train, x_rem, y_train, y_rem = train_test_split(data,label, train_size=0.5, stratify=label)\n",
        "x_val, x_test, y_val, y_test = train_test_split(x_rem,y_rem, test_size=0.5, stratify=y_rem)"
      ],
      "execution_count": null,
      "outputs": []
    },
    {
      "cell_type": "code",
      "metadata": {
        "id": "i4sqYrnTVp4O"
      },
      "source": [
        "num_classes = 10\n",
        "input_shape = (64, 64, 3)\n",
        "learning_rate = 0.001\n",
        "weight_decay = 0.0001\n",
        "batch_size = 32\n",
        "num_epochs = 100\n",
        "image_size = 64  # We'll resize input images to this size\n",
        "patch_size = 4  # Size of the patches to be extract from the input images\n",
        "num_patches = (image_size // patch_size) ** 2\n",
        "projection_dim = 64\n",
        "num_heads = 4\n",
        "transformer_units = [\n",
        "    projection_dim * 2,\n",
        "    projection_dim,\n",
        "]  # Size of the transformer layers\n",
        "transformer_layers = 8\n",
        "mlp_head_units = [2048, 1024]  # Size of the dense layers of the final classifier"
      ],
      "execution_count": null,
      "outputs": []
    },
    {
      "cell_type": "code",
      "metadata": {
        "id": "fDR0dI2aWomR"
      },
      "source": [
        "data_augmentation = keras.Sequential(\n",
        "    [\n",
        "        layers.Normalization(),\n",
        "        layers.Resizing(image_size, image_size),\n",
        "    ],\n",
        "    name=\"data_augmentation\",\n",
        ")\n",
        "# Compute the mean and the variance of the training data for normalization.\n",
        "data_augmentation.layers[0].adapt(x_train)"
      ],
      "execution_count": null,
      "outputs": []
    },
    {
      "cell_type": "code",
      "metadata": {
        "id": "kdx7n2_LWvQR"
      },
      "source": [
        "def mlp(x, hidden_units, dropout_rate):\n",
        "    for units in hidden_units:\n",
        "        x = layers.Dense(units, activation=tf.nn.gelu)(x)\n",
        "        x = layers.Dropout(dropout_rate)(x)\n",
        "    return x"
      ],
      "execution_count": null,
      "outputs": []
    },
    {
      "cell_type": "code",
      "metadata": {
        "id": "CVqifvmBWxdo"
      },
      "source": [
        "class Patches(layers.Layer):\n",
        "    def __init__(self, patch_size):\n",
        "        super(Patches, self).__init__()\n",
        "        self.patch_size = patch_size\n",
        "\n",
        "    def call(self, images):\n",
        "        batch_size = tf.shape(images)[0]\n",
        "        patches = tf.image.extract_patches(\n",
        "            images=images,\n",
        "            sizes=[1, self.patch_size, self.patch_size, 1],\n",
        "            strides=[1, self.patch_size, self.patch_size, 1],\n",
        "            rates=[1, 1, 1, 1],\n",
        "            padding=\"VALID\",\n",
        "        )\n",
        "        patch_dims = patches.shape[-1]\n",
        "        patches = tf.reshape(patches, [batch_size, -1, patch_dims])\n",
        "        return patches"
      ],
      "execution_count": null,
      "outputs": []
    },
    {
      "cell_type": "code",
      "metadata": {
        "id": "ORfufgUtWyHh"
      },
      "source": [
        "class PatchEncoder(layers.Layer):\n",
        "    def __init__(self, num_patches, projection_dim):\n",
        "        super(PatchEncoder, self).__init__()\n",
        "        self.num_patches = num_patches\n",
        "        self.projection = layers.Dense(units=projection_dim)\n",
        "        self.position_embedding = layers.Embedding(\n",
        "            input_dim=num_patches, output_dim=projection_dim\n",
        "        )\n",
        "\n",
        "    def call(self, patch):\n",
        "        positions = tf.range(start=0, limit=self.num_patches, delta=1)\n",
        "        encoded = self.projection(patch) + self.position_embedding(positions)\n",
        "        return encoded"
      ],
      "execution_count": null,
      "outputs": []
    },
    {
      "cell_type": "code",
      "metadata": {
        "id": "Hhm8S-eHW3XA"
      },
      "source": [
        "def create_vit_classifier():\n",
        "    inputs = layers.Input(shape=input_shape)\n",
        "    # Augment data.\n",
        "    augmented = data_augmentation(inputs)\n",
        "    # Create patches.\n",
        "    patches = Patches(patch_size)(augmented)\n",
        "    # Encode patches.\n",
        "    encoded_patches = PatchEncoder(num_patches, projection_dim)(patches)\n",
        "\n",
        "    # Create multiple layers of the Transformer block.\n",
        "    for _ in range(transformer_layers):\n",
        "        # Layer normalization 1.\n",
        "        x1 = layers.LayerNormalization(epsilon=1e-6)(encoded_patches)\n",
        "        # Create a multi-head attention layer.\n",
        "        attention_output = layers.MultiHeadAttention(\n",
        "            num_heads=num_heads, key_dim=projection_dim, dropout=0.1\n",
        "        )(x1, x1)\n",
        "        # Skip connection 1.\n",
        "        x2 = layers.Add()([attention_output, encoded_patches])\n",
        "        # Layer normalization 2.\n",
        "        x3 = layers.LayerNormalization(epsilon=1e-6)(x2)\n",
        "        # MLP.\n",
        "        x3 = mlp(x3, hidden_units=transformer_units, dropout_rate=0.1)\n",
        "        # Skip connection 2.\n",
        "        encoded_patches = layers.Add()([x3, x2])\n",
        "\n",
        "    # Create a [batch_size, projection_dim] tensor.\n",
        "    representation = layers.LayerNormalization(epsilon=1e-6)(encoded_patches)\n",
        "    representation = layers.Flatten()(representation)\n",
        "    representation = layers.Dropout(0.5)(representation)\n",
        "    # Add MLP.\n",
        "    features = mlp(representation, hidden_units=mlp_head_units, dropout_rate=0.5)\n",
        "    # Classify outputs.\n",
        "    logits = layers.Dense(num_classes)(features)\n",
        "    # Create the Keras model.\n",
        "    model = keras.Model(inputs=inputs, outputs=logits)\n",
        "    return model"
      ],
      "execution_count": null,
      "outputs": []
    },
    {
      "cell_type": "code",
      "metadata": {
        "id": "_r4Sq47OW6Dv",
        "colab": {
          "base_uri": "https://localhost:8080/"
        },
        "outputId": "12587058-f484-4dfa-d075-fcd766f69895"
      },
      "source": [
        "def run_experiment(model):\n",
        "    optimizer = tfa.optimizers.AdamW(\n",
        "        learning_rate=learning_rate, weight_decay=weight_decay\n",
        "    )\n",
        "\n",
        "    model.compile(\n",
        "        optimizer=optimizer,\n",
        "        loss=keras.losses.SparseCategoricalCrossentropy(from_logits=True),\n",
        "        metrics=['accuracy'])\n",
        "\n",
        "    history = model.fit(\n",
        "        x=x_train,\n",
        "        y=y_train,\n",
        "        validation_data = (x_val, y_val),\n",
        "        batch_size=batch_size,\n",
        "        epochs=num_epochs,\n",
        "    )\n",
        "\n",
        "    _, accuracy = model.evaluate(x_test, y_test)\n",
        "    print(f\"Test accuracy: {round(accuracy * 100, 2)}%\")\n",
        "\n",
        "    return history\n",
        "\n",
        "vit_classifier = create_vit_classifier()\n",
        "history = run_experiment(vit_classifier)"
      ],
      "execution_count": null,
      "outputs": [
        {
          "output_type": "stream",
          "name": "stdout",
          "text": [
            "Epoch 1/100\n",
            "32/32 [==============================] - 20s 247ms/step - loss: 4.9113 - accuracy: 0.4820\n",
            "Epoch 2/100\n",
            "32/32 [==============================] - 8s 245ms/step - loss: 1.5298 - accuracy: 0.7700\n",
            "Epoch 3/100\n",
            "32/32 [==============================] - 8s 246ms/step - loss: 0.9807 - accuracy: 0.8430\n",
            "Epoch 4/100\n",
            "32/32 [==============================] - 8s 246ms/step - loss: 0.5135 - accuracy: 0.9100\n",
            "Epoch 5/100\n",
            "32/32 [==============================] - 8s 246ms/step - loss: 0.2976 - accuracy: 0.9350\n",
            "Epoch 6/100\n",
            "32/32 [==============================] - 8s 247ms/step - loss: 0.2609 - accuracy: 0.9470\n",
            "Epoch 7/100\n",
            "32/32 [==============================] - 8s 245ms/step - loss: 0.2337 - accuracy: 0.9520\n",
            "Epoch 8/100\n",
            "32/32 [==============================] - 8s 246ms/step - loss: 0.3192 - accuracy: 0.9360\n",
            "Epoch 9/100\n",
            "32/32 [==============================] - 8s 246ms/step - loss: 0.1789 - accuracy: 0.9630\n",
            "Epoch 10/100\n",
            "32/32 [==============================] - 8s 246ms/step - loss: 0.1468 - accuracy: 0.9710\n",
            "Epoch 11/100\n",
            "32/32 [==============================] - 8s 245ms/step - loss: 0.1375 - accuracy: 0.9770\n",
            "Epoch 12/100\n",
            "32/32 [==============================] - 8s 246ms/step - loss: 0.1038 - accuracy: 0.9800\n",
            "Epoch 13/100\n",
            "32/32 [==============================] - 8s 245ms/step - loss: 0.1427 - accuracy: 0.9790\n",
            "Epoch 14/100\n",
            "32/32 [==============================] - 8s 246ms/step - loss: 0.1294 - accuracy: 0.9780\n",
            "Epoch 15/100\n",
            "32/32 [==============================] - 8s 245ms/step - loss: 0.1127 - accuracy: 0.9860\n",
            "Epoch 16/100\n",
            "32/32 [==============================] - 8s 247ms/step - loss: 0.0430 - accuracy: 0.9890\n",
            "Epoch 17/100\n",
            "32/32 [==============================] - 8s 247ms/step - loss: 0.1069 - accuracy: 0.9890\n",
            "Epoch 18/100\n",
            "32/32 [==============================] - 8s 247ms/step - loss: 0.0883 - accuracy: 0.9840\n",
            "Epoch 19/100\n",
            "32/32 [==============================] - 8s 246ms/step - loss: 0.0619 - accuracy: 0.9920\n",
            "Epoch 20/100\n",
            "32/32 [==============================] - 8s 247ms/step - loss: 0.2434 - accuracy: 0.9670\n",
            "Epoch 21/100\n",
            "32/32 [==============================] - 8s 247ms/step - loss: 0.0842 - accuracy: 0.9820\n",
            "Epoch 22/100\n",
            "32/32 [==============================] - 8s 247ms/step - loss: 0.1839 - accuracy: 0.9720\n",
            "Epoch 23/100\n",
            "32/32 [==============================] - 8s 246ms/step - loss: 0.7289 - accuracy: 0.9200\n",
            "Epoch 24/100\n",
            "32/32 [==============================] - 8s 246ms/step - loss: 0.2379 - accuracy: 0.9670\n",
            "Epoch 25/100\n",
            "32/32 [==============================] - 8s 246ms/step - loss: 0.1405 - accuracy: 0.9820\n",
            "Epoch 26/100\n",
            "32/32 [==============================] - 8s 245ms/step - loss: 0.1410 - accuracy: 0.9810\n",
            "Epoch 27/100\n",
            "32/32 [==============================] - 8s 245ms/step - loss: 0.1333 - accuracy: 0.9840\n",
            "Epoch 28/100\n",
            "32/32 [==============================] - 8s 246ms/step - loss: 0.0628 - accuracy: 0.9890\n",
            "Epoch 29/100\n",
            "32/32 [==============================] - 8s 245ms/step - loss: 0.0367 - accuracy: 0.9930\n",
            "Epoch 30/100\n",
            "32/32 [==============================] - 8s 245ms/step - loss: 0.0739 - accuracy: 0.9900\n",
            "Epoch 31/100\n",
            "32/32 [==============================] - 8s 246ms/step - loss: 0.0649 - accuracy: 0.9880\n",
            "Epoch 32/100\n",
            "32/32 [==============================] - 8s 246ms/step - loss: 0.0746 - accuracy: 0.9870\n",
            "Epoch 33/100\n",
            "32/32 [==============================] - 8s 246ms/step - loss: 0.0823 - accuracy: 0.9880\n",
            "Epoch 34/100\n",
            "32/32 [==============================] - 8s 246ms/step - loss: 0.0423 - accuracy: 0.9930\n",
            "Epoch 35/100\n",
            "32/32 [==============================] - 8s 246ms/step - loss: 0.0494 - accuracy: 0.9940\n",
            "Epoch 36/100\n",
            "32/32 [==============================] - 8s 246ms/step - loss: 0.2620 - accuracy: 0.9750\n",
            "Epoch 37/100\n",
            "32/32 [==============================] - 8s 246ms/step - loss: 0.1600 - accuracy: 0.9750\n",
            "Epoch 38/100\n",
            "32/32 [==============================] - 8s 245ms/step - loss: 0.1643 - accuracy: 0.9790\n",
            "Epoch 39/100\n",
            "32/32 [==============================] - 8s 246ms/step - loss: 0.0346 - accuracy: 0.9950\n",
            "Epoch 40/100\n",
            "32/32 [==============================] - 8s 246ms/step - loss: 0.1077 - accuracy: 0.9870\n",
            "Epoch 41/100\n",
            "32/32 [==============================] - 8s 246ms/step - loss: 0.0799 - accuracy: 0.9900\n",
            "Epoch 42/100\n",
            "32/32 [==============================] - 8s 245ms/step - loss: 0.3099 - accuracy: 0.9730\n",
            "Epoch 43/100\n",
            "32/32 [==============================] - 8s 246ms/step - loss: 0.3339 - accuracy: 0.9640\n",
            "Epoch 44/100\n",
            "32/32 [==============================] - 8s 247ms/step - loss: 0.1176 - accuracy: 0.9870\n",
            "Epoch 45/100\n",
            "32/32 [==============================] - 8s 246ms/step - loss: 0.0764 - accuracy: 0.9900\n",
            "Epoch 46/100\n",
            "32/32 [==============================] - 8s 245ms/step - loss: 0.1885 - accuracy: 0.9820\n",
            "Epoch 47/100\n",
            "32/32 [==============================] - 8s 245ms/step - loss: 0.1033 - accuracy: 0.9860\n",
            "Epoch 48/100\n",
            "32/32 [==============================] - 8s 246ms/step - loss: 0.0437 - accuracy: 0.9910\n",
            "Epoch 49/100\n",
            "32/32 [==============================] - 8s 246ms/step - loss: 0.0437 - accuracy: 0.9910\n",
            "Epoch 50/100\n",
            "32/32 [==============================] - 8s 246ms/step - loss: 0.1441 - accuracy: 0.9870\n",
            "Epoch 51/100\n",
            "32/32 [==============================] - 8s 246ms/step - loss: 0.0502 - accuracy: 0.9920\n",
            "Epoch 52/100\n",
            "32/32 [==============================] - 8s 246ms/step - loss: 0.0933 - accuracy: 0.9910\n",
            "Epoch 53/100\n",
            "32/32 [==============================] - 8s 246ms/step - loss: 0.0546 - accuracy: 0.9940\n",
            "Epoch 54/100\n",
            "32/32 [==============================] - 8s 245ms/step - loss: 0.1133 - accuracy: 0.9890\n",
            "Epoch 55/100\n",
            "32/32 [==============================] - 8s 247ms/step - loss: 0.0478 - accuracy: 0.9940\n",
            "Epoch 56/100\n",
            "32/32 [==============================] - 8s 245ms/step - loss: 0.1190 - accuracy: 0.9910\n",
            "Epoch 57/100\n",
            "32/32 [==============================] - 8s 246ms/step - loss: 0.0788 - accuracy: 0.9890\n",
            "Epoch 58/100\n",
            "32/32 [==============================] - 8s 246ms/step - loss: 0.0708 - accuracy: 0.9910\n",
            "Epoch 59/100\n",
            "32/32 [==============================] - 8s 246ms/step - loss: 0.0629 - accuracy: 0.9930\n",
            "Epoch 60/100\n",
            "32/32 [==============================] - 8s 245ms/step - loss: 0.1027 - accuracy: 0.9890\n",
            "Epoch 61/100\n",
            "32/32 [==============================] - 8s 248ms/step - loss: 0.1153 - accuracy: 0.9890\n",
            "Epoch 62/100\n",
            "32/32 [==============================] - 8s 246ms/step - loss: 0.0947 - accuracy: 0.9910\n",
            "Epoch 63/100\n",
            "32/32 [==============================] - 8s 245ms/step - loss: 0.0048 - accuracy: 0.9990\n",
            "Epoch 64/100\n",
            "32/32 [==============================] - 8s 245ms/step - loss: 0.1231 - accuracy: 0.9920\n",
            "Epoch 65/100\n",
            "32/32 [==============================] - 8s 245ms/step - loss: 0.1129 - accuracy: 0.9900\n",
            "Epoch 66/100\n",
            "32/32 [==============================] - 8s 246ms/step - loss: 0.2161 - accuracy: 0.9800\n",
            "Epoch 67/100\n",
            "32/32 [==============================] - 8s 245ms/step - loss: 0.0255 - accuracy: 0.9950\n",
            "Epoch 68/100\n",
            "32/32 [==============================] - 8s 246ms/step - loss: 0.0159 - accuracy: 0.9980\n",
            "Epoch 69/100\n",
            "32/32 [==============================] - 8s 246ms/step - loss: 0.1527 - accuracy: 0.9870\n",
            "Epoch 70/100\n",
            "32/32 [==============================] - 8s 246ms/step - loss: 0.2440 - accuracy: 0.9760\n",
            "Epoch 71/100\n",
            "32/32 [==============================] - 8s 245ms/step - loss: 0.3205 - accuracy: 0.9730\n",
            "Epoch 72/100\n",
            "32/32 [==============================] - 8s 246ms/step - loss: 0.1600 - accuracy: 0.9880\n",
            "Epoch 73/100\n",
            "32/32 [==============================] - 8s 245ms/step - loss: 0.0587 - accuracy: 0.9940\n",
            "Epoch 74/100\n",
            "32/32 [==============================] - 8s 247ms/step - loss: 0.0726 - accuracy: 0.9930\n",
            "Epoch 75/100\n",
            "32/32 [==============================] - 8s 246ms/step - loss: 0.3375 - accuracy: 0.9830\n",
            "Epoch 76/100\n",
            "32/32 [==============================] - 8s 245ms/step - loss: 0.1510 - accuracy: 0.9820\n",
            "Epoch 77/100\n",
            "32/32 [==============================] - 8s 246ms/step - loss: 0.0331 - accuracy: 0.9980\n",
            "Epoch 78/100\n",
            "32/32 [==============================] - 8s 246ms/step - loss: 0.0030 - accuracy: 0.9990\n",
            "Epoch 79/100\n",
            "32/32 [==============================] - 8s 245ms/step - loss: 0.0304 - accuracy: 0.9960\n",
            "Epoch 80/100\n",
            "32/32 [==============================] - 8s 245ms/step - loss: 0.0735 - accuracy: 0.9950\n",
            "Epoch 81/100\n",
            "32/32 [==============================] - 8s 245ms/step - loss: 0.0109 - accuracy: 0.9990\n",
            "Epoch 82/100\n",
            "32/32 [==============================] - 8s 244ms/step - loss: 0.1406 - accuracy: 0.9950\n",
            "Epoch 83/100\n",
            "32/32 [==============================] - 8s 246ms/step - loss: 0.0272 - accuracy: 0.9960\n",
            "Epoch 84/100\n",
            "32/32 [==============================] - 8s 245ms/step - loss: 0.0521 - accuracy: 0.9950\n",
            "Epoch 85/100\n",
            "32/32 [==============================] - 8s 245ms/step - loss: 0.1737 - accuracy: 0.9890\n",
            "Epoch 86/100\n",
            "32/32 [==============================] - 8s 245ms/step - loss: 0.1584 - accuracy: 0.9910\n",
            "Epoch 87/100\n",
            "32/32 [==============================] - 8s 245ms/step - loss: 0.0073 - accuracy: 0.9990\n",
            "Epoch 88/100\n",
            "32/32 [==============================] - 8s 246ms/step - loss: 0.0114 - accuracy: 0.9980\n",
            "Epoch 89/100\n",
            "32/32 [==============================] - 8s 245ms/step - loss: 0.0307 - accuracy: 0.9950\n",
            "Epoch 90/100\n",
            "32/32 [==============================] - 8s 245ms/step - loss: 0.0630 - accuracy: 0.9940\n",
            "Epoch 91/100\n",
            "32/32 [==============================] - 8s 245ms/step - loss: 0.0748 - accuracy: 0.9940\n",
            "Epoch 92/100\n",
            "32/32 [==============================] - 8s 246ms/step - loss: 0.1078 - accuracy: 0.9940\n",
            "Epoch 93/100\n",
            "32/32 [==============================] - 8s 246ms/step - loss: 0.0613 - accuracy: 0.9960\n",
            "Epoch 94/100\n",
            "32/32 [==============================] - 8s 245ms/step - loss: 0.0498 - accuracy: 0.9950\n",
            "Epoch 95/100\n",
            "32/32 [==============================] - 8s 247ms/step - loss: 0.0675 - accuracy: 0.9930\n",
            "Epoch 96/100\n",
            "32/32 [==============================] - 8s 247ms/step - loss: 0.0503 - accuracy: 0.9950\n",
            "Epoch 97/100\n",
            "32/32 [==============================] - 8s 247ms/step - loss: 0.0152 - accuracy: 0.9950\n",
            "Epoch 98/100\n",
            "32/32 [==============================] - 8s 246ms/step - loss: 0.0721 - accuracy: 0.9930\n",
            "Epoch 99/100\n",
            "32/32 [==============================] - 8s 247ms/step - loss: 0.0155 - accuracy: 0.9980\n",
            "Epoch 100/100\n",
            "32/32 [==============================] - 8s 246ms/step - loss: 0.0086 - accuracy: 0.9970\n",
            "16/16 [==============================] - 3s 82ms/step - loss: 0.4308 - accuracy: 0.9660\n",
            "Test accuracy: 96.6%\n"
          ]
        }
      ]
    },
    {
      "cell_type": "code",
      "metadata": {
        "colab": {
          "base_uri": "https://localhost:8080/",
          "height": 231
        },
        "id": "0LhWhQfRwUka",
        "outputId": "8ceb6299-8357-470d-b1bb-c10ccf9d0217"
      },
      "source": [
        "def plot_loss(loss,val_loss):\n",
        "  plt.figure()\n",
        "  plt.plot(loss)\n",
        "  plt.plot(val_loss)\n",
        "  plt.title('Model loss')\n",
        "  plt.ylabel('Loss')\n",
        "  plt.xlabel('Epoch')\n",
        "  plt.legend(['Train', 'Validation'], loc='upper right')\n",
        "  plt.show()\n",
        "\n",
        "def plot_accuracy(acc,val_acc):\n",
        "  # Plot training & validation accuracy values\n",
        "  plt.figure()\n",
        "  plt.plot(acc)\n",
        "  plt.plot(val_acc)\n",
        "  plt.title('Model accuracy')\n",
        "  plt.ylabel('Accuracy')\n",
        "  plt.xlabel('Epoch')\n",
        "  plt.legend(['Train', 'Validation'], loc='lower right')\n",
        "  plt.show()\n",
        "\n",
        "# Plot train vs test loss during training\n",
        "plot_loss(h_callback.history['loss'], h_callback.history['val_loss'])\n",
        "\n",
        "# Plot train vs test accuracy during training\n",
        "plot_accuracy(h_callback.history['accuracy'], h_callback.history['val_accuracy'])\n",
        "\n",
        "from sklearn.metrics import confusion_matrix\n",
        "pred = model.predict(x_test)\n",
        "pred = pred.argmax(axis = 1)\n",
        "conf = confusion_matrix(y_test, pred)\n",
        "print(conf)\n",
        "print('acc : ', np.trace(conf)/np.sum(conf)*100)"
      ],
      "execution_count": null,
      "outputs": [
        {
          "output_type": "error",
          "ename": "NameError",
          "evalue": "ignored",
          "traceback": [
            "\u001b[0;31m---------------------------------------------------------------------------\u001b[0m",
            "\u001b[0;31mNameError\u001b[0m                                 Traceback (most recent call last)",
            "\u001b[0;32m<ipython-input-12-e66814ce0be8>\u001b[0m in \u001b[0;36m<module>\u001b[0;34m()\u001b[0m\n\u001b[1;32m     21\u001b[0m \u001b[0;34m\u001b[0m\u001b[0m\n\u001b[1;32m     22\u001b[0m \u001b[0;31m# Plot train vs test loss during training\u001b[0m\u001b[0;34m\u001b[0m\u001b[0;34m\u001b[0m\u001b[0;34m\u001b[0m\u001b[0m\n\u001b[0;32m---> 23\u001b[0;31m \u001b[0mplot_loss\u001b[0m\u001b[0;34m(\u001b[0m\u001b[0mh_callback\u001b[0m\u001b[0;34m.\u001b[0m\u001b[0mhistory\u001b[0m\u001b[0;34m[\u001b[0m\u001b[0;34m'loss'\u001b[0m\u001b[0;34m]\u001b[0m\u001b[0;34m,\u001b[0m \u001b[0mh_callback\u001b[0m\u001b[0;34m.\u001b[0m\u001b[0mhistory\u001b[0m\u001b[0;34m[\u001b[0m\u001b[0;34m'val_loss'\u001b[0m\u001b[0;34m]\u001b[0m\u001b[0;34m)\u001b[0m\u001b[0;34m\u001b[0m\u001b[0;34m\u001b[0m\u001b[0m\n\u001b[0m\u001b[1;32m     24\u001b[0m \u001b[0;34m\u001b[0m\u001b[0m\n\u001b[1;32m     25\u001b[0m \u001b[0;31m# Plot train vs test accuracy during training\u001b[0m\u001b[0;34m\u001b[0m\u001b[0;34m\u001b[0m\u001b[0;34m\u001b[0m\u001b[0m\n",
            "\u001b[0;31mNameError\u001b[0m: name 'h_callback' is not defined"
          ]
        }
      ]
    }
  ]
}