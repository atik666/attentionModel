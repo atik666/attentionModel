{
  "nbformat": 4,
  "nbformat_minor": 0,
  "metadata": {
    "colab": {
      "name": "encoder.ipynb",
      "provenance": [],
      "authorship_tag": "ABX9TyOFTaClZAn200jQtJpLe7SC",
      "include_colab_link": true
    },
    "kernelspec": {
      "name": "python3",
      "display_name": "Python 3"
    },
    "language_info": {
      "name": "python"
    },
    "accelerator": "GPU"
  },
  "cells": [
    {
      "cell_type": "markdown",
      "metadata": {
        "id": "view-in-github",
        "colab_type": "text"
      },
      "source": [
        "<a href=\"https://colab.research.google.com/github/atik666/attentionModel/blob/cloab/encoder.ipynb\" target=\"_parent\"><img src=\"https://colab.research.google.com/assets/colab-badge.svg\" alt=\"Open In Colab\"/></a>"
      ]
    },
    {
      "cell_type": "code",
      "metadata": {
        "colab": {
          "base_uri": "https://localhost:8080/"
        },
        "id": "f-y94lEf1kCX",
        "outputId": "9d81ebf0-7b4a-4202-fad7-a2d85684c02b"
      },
      "source": [
        "from google.colab import drive\n",
        "drive.mount('/content/drive')"
      ],
      "execution_count": null,
      "outputs": [
        {
          "output_type": "stream",
          "name": "stdout",
          "text": [
            "Drive already mounted at /content/drive; to attempt to forcibly remount, call drive.mount(\"/content/drive\", force_remount=True).\n"
          ]
        }
      ]
    },
    {
      "cell_type": "code",
      "metadata": {
        "id": "k5kXLwQZ1m5u"
      },
      "source": [
        "from tensorflow import keras\n",
        "from keras.preprocessing.image import load_img, ImageDataGenerator, img_to_array\n",
        "import tensorflow as tf\n",
        "import tensorflow_hub as hub\n",
        "from tensorflow.keras.callbacks import EarlyStopping,ModelCheckpoint\n",
        "from matplotlib import pyplot as plt\n",
        "import numpy as np\n",
        "import pandas as pd"
      ],
      "execution_count": null,
      "outputs": []
    },
    {
      "cell_type": "code",
      "metadata": {
        "colab": {
          "base_uri": "https://localhost:8080/"
        },
        "id": "j01enmYS1oYV",
        "outputId": "71cf2261-52a0-4467-a72b-b3f9cf9bb2a4"
      },
      "source": [
        "data = np.load(\"/content/drive/MyDrive/Colab/encoder/X.npy\")\n",
        "label = np.load(\"/content/drive/MyDrive/Colab/encoder/y.npy\")\n",
        "from sklearn.model_selection import train_test_split\n",
        "X_train, X_rem, y_train, y_rem = train_test_split(data,label, train_size=0.5, stratify=label)\n",
        "X_val, X_test, y_val, y_test = train_test_split(X_rem,y_rem, test_size=0.5, stratify=y_rem)\n",
        "print(X_train.shape), print(y_train.shape)\n",
        "print(X_val.shape), print(y_val.shape)\n",
        "print(X_test.shape), print(y_test.shape)"
      ],
      "execution_count": null,
      "outputs": [
        {
          "output_type": "stream",
          "name": "stdout",
          "text": [
            "(1000, 64, 64, 3)\n",
            "(1000,)\n",
            "(500, 64, 64, 3)\n",
            "(500,)\n",
            "(500, 64, 64, 3)\n",
            "(500,)\n"
          ]
        },
        {
          "output_type": "execute_result",
          "data": {
            "text/plain": [
              "(None, None)"
            ]
          },
          "metadata": {},
          "execution_count": 7
        }
      ]
    },
    {
      "cell_type": "code",
      "metadata": {
        "id": "RUIQG0Vy2vxT"
      },
      "source": [
        "IMAGE_SHAPE = (64, 64, 3)\n",
        "      \n",
        "model_name = \"inception_v3\"\n",
        "#feature_extractor_model=\"https://tfhub.dev/google/tf2-preview/%s/feature_vector/4\" %model_name\n",
        "\n",
        "feature_extractor_model=\"https://tfhub.dev/google/imagenet/resnet_v1_101/classification/5\"\n",
        "\n",
        "pretrained_model_without_top_layer = hub.KerasLayer(\n",
        "    feature_extractor_model, input_shape=IMAGE_SHAPE, trainable=False)      \n",
        "num_class = 10"
      ],
      "execution_count": null,
      "outputs": []
    },
    {
      "cell_type": "code",
      "metadata": {
        "colab": {
          "base_uri": "https://localhost:8080/",
          "height": 1000
        },
        "id": "XRnd6ceH23e4",
        "outputId": "50205b8c-d66e-40fe-cf2f-984c036bd268"
      },
      "source": [
        "model = tf.keras.Sequential([\n",
        "  pretrained_model_without_top_layer,\n",
        "  tf.keras.layers.Dense(num_class)\n",
        "])\n",
        "\n",
        "model.summary()          \n",
        "         \n",
        "model.compile(\n",
        "  optimizer=\"adam\",\n",
        "  loss=tf.keras.losses.SparseCategoricalCrossentropy(from_logits=True),\n",
        "  metrics=['accuracy'])\n",
        "     \n",
        "# Train your model using the early stopping callback\n",
        "h_callback = model.fit(X_train, y_train, batch_size = 32,\n",
        "           epochs = 50, validation_data = (X_val, y_val))\n",
        "\n",
        "loss, acc= model.evaluate(X_test, y_test)\n",
        "print('Test Accuracy: %f' % (acc*100))\n",
        "\n",
        "def plot_loss(loss,val_loss):\n",
        "  plt.figure()\n",
        "  plt.plot(loss)\n",
        "  plt.plot(val_loss)\n",
        "  plt.title('Model loss')\n",
        "  plt.ylabel('Loss')\n",
        "  plt.xlabel('Epoch')\n",
        "  plt.legend(['Train', 'Validation'], loc='upper right')\n",
        "  plt.show()\n",
        "  \n",
        "def plot_accuracy(acc,val_acc):\n",
        "  # Plot training & validation accuracy values\n",
        "  plt.figure()\n",
        "  plt.plot(acc)\n",
        "  plt.plot(val_acc)\n",
        "  plt.title('Model accuracy')\n",
        "  plt.ylabel('Accuracy')\n",
        "  plt.xlabel('Epoch')\n",
        "  plt.legend(['Train', 'Validation'], loc='lower right')\n",
        "  plt.show()\n",
        "  \n",
        "# Plot train vs test loss during training\n",
        "plot_loss(h_callback.history['loss'], h_callback.history['val_loss'])\n",
        "\n",
        "# Plot train vs test accuracy during training\n",
        "plot_accuracy(h_callback.history['accuracy'], h_callback.history['val_accuracy'])\n",
        "\n",
        "from sklearn.metrics import confusion_matrix\n",
        "y_pred = model.predict(X_test)\n",
        "y_pred = np.argmax(y_pred, axis=1)\n",
        "conf = confusion_matrix(y_test, y_pred)\n",
        "print(conf)\n",
        "print('acc : ', np.trace(conf)/np.sum(conf)*100)"
      ],
      "execution_count": null,
      "outputs": [
        {
          "output_type": "stream",
          "name": "stdout",
          "text": [
            "Model: \"sequential\"\n",
            "_________________________________________________________________\n",
            "Layer (type)                 Output Shape              Param #   \n",
            "=================================================================\n",
            "keras_layer (KerasLayer)     (None, 1001)              44656553  \n",
            "_________________________________________________________________\n",
            "dense (Dense)                (None, 10)                10020     \n",
            "=================================================================\n",
            "Total params: 44,666,573\n",
            "Trainable params: 10,020\n",
            "Non-trainable params: 44,656,553\n",
            "_________________________________________________________________\n",
            "Epoch 1/50\n",
            "32/32 [==============================] - 16s 203ms/step - loss: 1.3227 - accuracy: 0.6200 - val_loss: 0.4429 - val_accuracy: 0.8380\n",
            "Epoch 2/50\n",
            "32/32 [==============================] - 3s 94ms/step - loss: 0.3494 - accuracy: 0.8560 - val_loss: 0.3047 - val_accuracy: 0.8900\n",
            "Epoch 3/50\n",
            "32/32 [==============================] - 3s 106ms/step - loss: 0.2754 - accuracy: 0.8870 - val_loss: 0.2684 - val_accuracy: 0.9000\n",
            "Epoch 4/50\n",
            "32/32 [==============================] - 3s 95ms/step - loss: 0.2302 - accuracy: 0.9140 - val_loss: 0.2525 - val_accuracy: 0.9140\n",
            "Epoch 5/50\n",
            "32/32 [==============================] - 3s 95ms/step - loss: 0.1900 - accuracy: 0.9420 - val_loss: 0.2674 - val_accuracy: 0.9040\n",
            "Epoch 6/50\n",
            "32/32 [==============================] - 3s 94ms/step - loss: 0.1624 - accuracy: 0.9520 - val_loss: 0.2389 - val_accuracy: 0.9220\n",
            "Epoch 7/50\n",
            "32/32 [==============================] - 3s 96ms/step - loss: 0.1538 - accuracy: 0.9510 - val_loss: 0.2127 - val_accuracy: 0.9220\n",
            "Epoch 8/50\n",
            "32/32 [==============================] - 3s 95ms/step - loss: 0.1350 - accuracy: 0.9620 - val_loss: 0.2562 - val_accuracy: 0.9120\n",
            "Epoch 9/50\n",
            "32/32 [==============================] - 3s 95ms/step - loss: 0.1229 - accuracy: 0.9650 - val_loss: 0.2090 - val_accuracy: 0.9140\n",
            "Epoch 10/50\n",
            "32/32 [==============================] - 3s 94ms/step - loss: 0.1294 - accuracy: 0.9560 - val_loss: 0.2160 - val_accuracy: 0.9320\n",
            "Epoch 11/50\n",
            "32/32 [==============================] - 3s 95ms/step - loss: 0.1058 - accuracy: 0.9690 - val_loss: 0.2468 - val_accuracy: 0.9220\n",
            "Epoch 12/50\n",
            "32/32 [==============================] - 3s 95ms/step - loss: 0.0987 - accuracy: 0.9730 - val_loss: 0.2131 - val_accuracy: 0.9260\n",
            "Epoch 13/50\n",
            "32/32 [==============================] - 3s 94ms/step - loss: 0.0872 - accuracy: 0.9770 - val_loss: 0.2131 - val_accuracy: 0.9300\n",
            "Epoch 14/50\n",
            "32/32 [==============================] - 3s 91ms/step - loss: 0.0845 - accuracy: 0.9750 - val_loss: 0.2456 - val_accuracy: 0.9140\n",
            "Epoch 15/50\n",
            "32/32 [==============================] - 3s 91ms/step - loss: 0.0896 - accuracy: 0.9760 - val_loss: 0.2025 - val_accuracy: 0.9200\n",
            "Epoch 16/50\n",
            "32/32 [==============================] - 3s 91ms/step - loss: 0.0868 - accuracy: 0.9790 - val_loss: 0.1962 - val_accuracy: 0.9220\n",
            "Epoch 17/50\n",
            "32/32 [==============================] - 3s 91ms/step - loss: 0.0727 - accuracy: 0.9820 - val_loss: 0.2047 - val_accuracy: 0.9340\n",
            "Epoch 18/50\n",
            "32/32 [==============================] - 3s 103ms/step - loss: 0.0689 - accuracy: 0.9850 - val_loss: 0.2112 - val_accuracy: 0.9360\n",
            "Epoch 19/50\n",
            "32/32 [==============================] - 3s 91ms/step - loss: 0.0627 - accuracy: 0.9870 - val_loss: 0.1998 - val_accuracy: 0.9360\n",
            "Epoch 20/50\n",
            "32/32 [==============================] - 3s 92ms/step - loss: 0.0711 - accuracy: 0.9810 - val_loss: 0.2009 - val_accuracy: 0.9220\n",
            "Epoch 21/50\n",
            "32/32 [==============================] - 3s 106ms/step - loss: 0.0649 - accuracy: 0.9830 - val_loss: 0.1997 - val_accuracy: 0.9280\n",
            "Epoch 22/50\n",
            "32/32 [==============================] - 3s 106ms/step - loss: 0.0607 - accuracy: 0.9860 - val_loss: 0.1975 - val_accuracy: 0.9300\n",
            "Epoch 23/50\n",
            "32/32 [==============================] - 3s 94ms/step - loss: 0.0605 - accuracy: 0.9860 - val_loss: 0.2058 - val_accuracy: 0.9320\n",
            "Epoch 24/50\n",
            "32/32 [==============================] - 3s 95ms/step - loss: 0.0538 - accuracy: 0.9840 - val_loss: 0.1971 - val_accuracy: 0.9280\n",
            "Epoch 25/50\n",
            "32/32 [==============================] - 3s 95ms/step - loss: 0.0945 - accuracy: 0.9710 - val_loss: 0.2651 - val_accuracy: 0.9220\n",
            "Epoch 26/50\n",
            "32/32 [==============================] - 3s 95ms/step - loss: 0.0518 - accuracy: 0.9860 - val_loss: 0.2127 - val_accuracy: 0.9280\n",
            "Epoch 27/50\n",
            "32/32 [==============================] - 3s 95ms/step - loss: 0.0446 - accuracy: 0.9930 - val_loss: 0.1972 - val_accuracy: 0.9360\n",
            "Epoch 28/50\n",
            "32/32 [==============================] - 3s 95ms/step - loss: 0.0432 - accuracy: 0.9950 - val_loss: 0.2137 - val_accuracy: 0.9380\n",
            "Epoch 29/50\n",
            "32/32 [==============================] - 3s 95ms/step - loss: 0.0387 - accuracy: 0.9960 - val_loss: 0.1983 - val_accuracy: 0.9300\n",
            "Epoch 30/50\n",
            "32/32 [==============================] - 3s 105ms/step - loss: 0.0359 - accuracy: 0.9950 - val_loss: 0.1979 - val_accuracy: 0.9240\n",
            "Epoch 31/50\n",
            "32/32 [==============================] - 3s 95ms/step - loss: 0.0358 - accuracy: 0.9960 - val_loss: 0.2109 - val_accuracy: 0.9260\n",
            "Epoch 32/50\n",
            "32/32 [==============================] - 3s 95ms/step - loss: 0.0352 - accuracy: 0.9950 - val_loss: 0.2040 - val_accuracy: 0.9240\n",
            "Epoch 33/50\n",
            "32/32 [==============================] - 3s 95ms/step - loss: 0.0335 - accuracy: 0.9950 - val_loss: 0.2035 - val_accuracy: 0.9240\n",
            "Epoch 34/50\n",
            "32/32 [==============================] - 3s 95ms/step - loss: 0.0397 - accuracy: 0.9900 - val_loss: 0.2128 - val_accuracy: 0.9280\n",
            "Epoch 35/50\n",
            "32/32 [==============================] - 3s 95ms/step - loss: 0.0388 - accuracy: 0.9920 - val_loss: 0.2035 - val_accuracy: 0.9280\n",
            "Epoch 36/50\n",
            "32/32 [==============================] - 3s 95ms/step - loss: 0.0341 - accuracy: 0.9940 - val_loss: 0.2357 - val_accuracy: 0.9300\n",
            "Epoch 37/50\n",
            "32/32 [==============================] - 3s 96ms/step - loss: 0.0317 - accuracy: 0.9960 - val_loss: 0.2021 - val_accuracy: 0.9300\n",
            "Epoch 38/50\n",
            "32/32 [==============================] - 3s 94ms/step - loss: 0.0279 - accuracy: 0.9950 - val_loss: 0.2097 - val_accuracy: 0.9340\n",
            "Epoch 39/50\n",
            "32/32 [==============================] - 3s 94ms/step - loss: 0.0264 - accuracy: 0.9970 - val_loss: 0.2173 - val_accuracy: 0.9320\n",
            "Epoch 40/50\n",
            "32/32 [==============================] - 3s 95ms/step - loss: 0.0299 - accuracy: 0.9950 - val_loss: 0.2247 - val_accuracy: 0.9280\n",
            "Epoch 41/50\n",
            "32/32 [==============================] - 3s 95ms/step - loss: 0.0250 - accuracy: 0.9980 - val_loss: 0.2337 - val_accuracy: 0.9260\n",
            "Epoch 42/50\n",
            "32/32 [==============================] - 3s 95ms/step - loss: 0.0244 - accuracy: 0.9990 - val_loss: 0.2038 - val_accuracy: 0.9280\n",
            "Epoch 43/50\n",
            "32/32 [==============================] - 3s 106ms/step - loss: 0.0246 - accuracy: 0.9970 - val_loss: 0.2056 - val_accuracy: 0.9280\n",
            "Epoch 44/50\n",
            "32/32 [==============================] - 3s 95ms/step - loss: 0.0223 - accuracy: 0.9990 - val_loss: 0.2014 - val_accuracy: 0.9320\n",
            "Epoch 45/50\n",
            "32/32 [==============================] - 3s 95ms/step - loss: 0.0277 - accuracy: 0.9950 - val_loss: 0.2278 - val_accuracy: 0.9260\n",
            "Epoch 46/50\n",
            "32/32 [==============================] - 3s 95ms/step - loss: 0.0212 - accuracy: 0.9980 - val_loss: 0.2052 - val_accuracy: 0.9280\n",
            "Epoch 47/50\n",
            "32/32 [==============================] - 3s 95ms/step - loss: 0.0193 - accuracy: 1.0000 - val_loss: 0.2206 - val_accuracy: 0.9300\n",
            "Epoch 48/50\n",
            "32/32 [==============================] - 3s 95ms/step - loss: 0.0226 - accuracy: 0.9970 - val_loss: 0.2057 - val_accuracy: 0.9280\n",
            "Epoch 49/50\n",
            "32/32 [==============================] - 3s 95ms/step - loss: 0.0203 - accuracy: 1.0000 - val_loss: 0.2175 - val_accuracy: 0.9320\n",
            "Epoch 50/50\n",
            "32/32 [==============================] - 3s 95ms/step - loss: 0.0177 - accuracy: 0.9990 - val_loss: 0.2109 - val_accuracy: 0.9360\n",
            "16/16 [==============================] - 1s 70ms/step - loss: 0.2131 - accuracy: 0.9260\n",
            "Test Accuracy: 92.600000\n"
          ]
        },
        {
          "output_type": "display_data",
          "data": {
            "image/png": "[encoded data removed]",
            "text/plain": [
              "<Figure size 432x288 with 1 Axes>"
            ]
          },
          "metadata": {
            "needs_background": "light"
          }
        },
        {
          "output_type": "display_data",
          "data": {
            "image/png": "[encoded data removed]",
            "text/plain": [
              "<Figure size 432x288 with 1 Axes>"
            ]
          },
          "metadata": {
            "needs_background": "light"
          }
        },
        {
          "output_type": "stream",
          "name": "stdout",
          "text": [
            "[[50  0  0  0  0  0  0  0  0  0]\n",
            " [ 0 40  1  9  0  0  0  0  0  0]\n",
            " [ 0  1 45  3  0  0  0  0  0  1]\n",
            " [ 0 10  3 36  0  0  0  0  1  0]\n",
            " [ 0  0  0  0 50  0  0  0  0  0]\n",
            " [ 0  0  0  0  0 50  0  0  0  0]\n",
            " [ 0  0  0  0  0  0 50  0  0  0]\n",
            " [ 0  0  0  0  0  0  0 50  0  0]\n",
            " [ 0  0  0  4  0  1  0  0 45  0]\n",
            " [ 0  0  1  0  0  2  0  0  0 47]]\n",
            "acc :  92.60000000000001\n"
          ]
        }
      ]
    },
    {
      "cell_type": "code",
      "metadata": {
        "colab": {
          "base_uri": "https://localhost:8080/"
        },
        "id": "mWqo-u117Fws",
        "outputId": "6e297bd3-c53c-488c-d428-45bc61e50103"
      },
      "source": [
        "# Importing the required Keras modules containing model and layers\n",
        "from tensorflow import keras\n",
        "from tensorflow.keras.models import Sequential\n",
        "from tensorflow.keras.layers import Dense, Conv2D, Dropout, Flatten, MaxPooling2D\n",
        "# Creating a Sequential Model and adding the layers\n",
        "model = Sequential()\n",
        "model.add(Conv2D(32, kernel_size=(5,5), padding=\"same\", activation='relu', input_shape=X_train[0].shape))\n",
        "model.add(MaxPooling2D(pool_size=(2, 2)))\n",
        "\n",
        "model.add(Conv2D(32, kernel_size=(3,3),activation='relu',padding=\"same\"))\n",
        "model.add(MaxPooling2D(pool_size=(2, 2)))\n",
        "\n",
        "model.add(Conv2D(64, kernel_size=(3,3),activation='relu',padding=\"same\"))\n",
        "model.add(MaxPooling2D(pool_size=(2, 2)))\n",
        "\n",
        "model.add(Conv2D(96, kernel_size=(3,3),activation='relu',padding=\"same\"))\n",
        "model.add(MaxPooling2D(pool_size=(2, 2)))\n",
        "\n",
        "model.add(Flatten()) # Flattening the 2D arrays for fully connected layers\n",
        "\n",
        "model.add(Dense(512, activation='relu'))\n",
        "model.add(Dropout(0.4))\n",
        "\n",
        "model.add(Dense(256, activation='relu'))\n",
        "model.add(Dropout(0.2))\n",
        "\n",
        "model.add(Dense(num_class,activation='softmax'))\n",
        "\n",
        "opt = keras.optimizers.Adam(learning_rate=1e-3)\n",
        "model.compile(optimizer=opt,\n",
        "              loss='sparse_categorical_crossentropy',\n",
        "              metrics=['accuracy'])\n",
        "\n",
        "# Train your model using the early stopping callback\n",
        "model.fit(X_train, y_train, batch_size = 16,\n",
        "           epochs = 50, validation_data = (X_val, y_val))\n",
        "\n",
        "loss, acc= model.evaluate(X_test, y_test)\n",
        "print('Test Accuracy: %f' % (acc*100))\n",
        "\n",
        "from sklearn.metrics import confusion_matrix\n",
        "pred = model.predict(X_test)\n",
        "pred = pred.argmax(axis = 1)\n",
        "conf = confusion_matrix(y_test, pred)\n",
        "print(conf)"
      ],
      "execution_count": null,
      "outputs": [
        {
          "output_type": "stream",
          "name": "stdout",
          "text": [
            "Epoch 1/50\n",
            "63/63 [==============================] - 2s 17ms/step - loss: 1.8998 - accuracy: 0.2630 - val_loss: 1.4257 - val_accuracy: 0.4780\n",
            "Epoch 2/50\n",
            "63/63 [==============================] - 1s 13ms/step - loss: 1.1263 - accuracy: 0.5510 - val_loss: 0.8872 - val_accuracy: 0.6220\n",
            "Epoch 3/50\n",
            "63/63 [==============================] - 1s 13ms/step - loss: 0.6189 - accuracy: 0.7450 - val_loss: 0.3680 - val_accuracy: 0.8500\n",
            "Epoch 4/50\n",
            "63/63 [==============================] - 1s 13ms/step - loss: 0.4014 - accuracy: 0.8390 - val_loss: 0.3524 - val_accuracy: 0.8660\n",
            "Epoch 5/50\n",
            "63/63 [==============================] - 1s 13ms/step - loss: 0.3453 - accuracy: 0.8710 - val_loss: 0.4797 - val_accuracy: 0.7960\n",
            "Epoch 6/50\n",
            "63/63 [==============================] - 1s 13ms/step - loss: 0.3520 - accuracy: 0.8590 - val_loss: 0.2700 - val_accuracy: 0.8880\n",
            "Epoch 7/50\n",
            "63/63 [==============================] - 1s 13ms/step - loss: 0.2523 - accuracy: 0.8980 - val_loss: 0.2548 - val_accuracy: 0.8920\n",
            "Epoch 8/50\n",
            "63/63 [==============================] - 1s 13ms/step - loss: 0.2194 - accuracy: 0.9140 - val_loss: 0.2963 - val_accuracy: 0.8980\n",
            "Epoch 9/50\n",
            "63/63 [==============================] - 1s 13ms/step - loss: 0.2016 - accuracy: 0.9190 - val_loss: 0.2679 - val_accuracy: 0.9040\n",
            "Epoch 10/50\n",
            "63/63 [==============================] - 1s 13ms/step - loss: 0.1833 - accuracy: 0.9210 - val_loss: 0.3051 - val_accuracy: 0.9020\n",
            "Epoch 11/50\n",
            "63/63 [==============================] - 1s 16ms/step - loss: 0.2177 - accuracy: 0.9140 - val_loss: 0.5221 - val_accuracy: 0.8500\n",
            "Epoch 12/50\n",
            "63/63 [==============================] - 1s 13ms/step - loss: 0.1659 - accuracy: 0.9300 - val_loss: 0.3218 - val_accuracy: 0.8940\n",
            "Epoch 13/50\n",
            "63/63 [==============================] - 1s 13ms/step - loss: 0.1379 - accuracy: 0.9430 - val_loss: 0.2276 - val_accuracy: 0.9200\n",
            "Epoch 14/50\n",
            "63/63 [==============================] - 1s 13ms/step - loss: 0.1056 - accuracy: 0.9510 - val_loss: 0.2636 - val_accuracy: 0.9120\n",
            "Epoch 15/50\n",
            "63/63 [==============================] - 1s 13ms/step - loss: 0.1353 - accuracy: 0.9530 - val_loss: 0.4341 - val_accuracy: 0.8620\n",
            "Epoch 16/50\n",
            "63/63 [==============================] - 1s 13ms/step - loss: 0.1315 - accuracy: 0.9570 - val_loss: 0.2600 - val_accuracy: 0.9100\n",
            "Epoch 17/50\n",
            "63/63 [==============================] - 1s 13ms/step - loss: 0.1124 - accuracy: 0.9510 - val_loss: 0.3370 - val_accuracy: 0.8940\n",
            "Epoch 18/50\n",
            "63/63 [==============================] - 1s 13ms/step - loss: 0.0904 - accuracy: 0.9610 - val_loss: 0.2328 - val_accuracy: 0.9260\n",
            "Epoch 19/50\n",
            "63/63 [==============================] - 1s 13ms/step - loss: 0.0661 - accuracy: 0.9760 - val_loss: 0.2944 - val_accuracy: 0.9340\n",
            "Epoch 20/50\n",
            "63/63 [==============================] - 1s 13ms/step - loss: 0.1073 - accuracy: 0.9510 - val_loss: 0.2538 - val_accuracy: 0.9100\n",
            "Epoch 21/50\n",
            "63/63 [==============================] - 1s 13ms/step - loss: 0.0756 - accuracy: 0.9730 - val_loss: 0.2683 - val_accuracy: 0.9120\n",
            "Epoch 22/50\n",
            "63/63 [==============================] - 1s 13ms/step - loss: 0.0891 - accuracy: 0.9730 - val_loss: 0.3347 - val_accuracy: 0.9120\n",
            "Epoch 23/50\n",
            "63/63 [==============================] - 1s 13ms/step - loss: 0.0660 - accuracy: 0.9730 - val_loss: 0.3212 - val_accuracy: 0.9000\n",
            "Epoch 24/50\n",
            "63/63 [==============================] - 1s 13ms/step - loss: 0.0805 - accuracy: 0.9730 - val_loss: 0.3126 - val_accuracy: 0.9180\n",
            "Epoch 25/50\n",
            "63/63 [==============================] - 1s 13ms/step - loss: 0.0515 - accuracy: 0.9800 - val_loss: 0.2799 - val_accuracy: 0.9220\n",
            "Epoch 26/50\n",
            "63/63 [==============================] - 1s 13ms/step - loss: 0.1272 - accuracy: 0.9670 - val_loss: 0.2680 - val_accuracy: 0.9160\n",
            "Epoch 27/50\n",
            "63/63 [==============================] - 1s 13ms/step - loss: 0.0334 - accuracy: 0.9890 - val_loss: 0.3453 - val_accuracy: 0.9140\n",
            "Epoch 28/50\n",
            "63/63 [==============================] - 1s 13ms/step - loss: 0.0300 - accuracy: 0.9890 - val_loss: 0.3132 - val_accuracy: 0.9300\n",
            "Epoch 29/50\n",
            "63/63 [==============================] - 1s 13ms/step - loss: 0.0253 - accuracy: 0.9920 - val_loss: 0.2396 - val_accuracy: 0.9460\n",
            "Epoch 30/50\n",
            "63/63 [==============================] - 1s 13ms/step - loss: 0.0039 - accuracy: 1.0000 - val_loss: 0.2706 - val_accuracy: 0.9380\n",
            "Epoch 31/50\n",
            "63/63 [==============================] - 1s 13ms/step - loss: 0.0022 - accuracy: 1.0000 - val_loss: 0.3241 - val_accuracy: 0.9340\n",
            "Epoch 32/50\n",
            "63/63 [==============================] - 1s 13ms/step - loss: 0.0155 - accuracy: 0.9970 - val_loss: 0.3504 - val_accuracy: 0.9160\n",
            "Epoch 33/50\n",
            "63/63 [==============================] - 1s 12ms/step - loss: 0.0166 - accuracy: 0.9930 - val_loss: 0.4739 - val_accuracy: 0.9120\n",
            "Epoch 34/50\n",
            "63/63 [==============================] - 1s 12ms/step - loss: 0.0692 - accuracy: 0.9780 - val_loss: 0.4268 - val_accuracy: 0.9140\n",
            "Epoch 35/50\n",
            "63/63 [==============================] - 1s 13ms/step - loss: 0.0673 - accuracy: 0.9800 - val_loss: 0.3847 - val_accuracy: 0.9200\n",
            "Epoch 36/50\n",
            "63/63 [==============================] - 1s 13ms/step - loss: 0.0684 - accuracy: 0.9810 - val_loss: 0.4170 - val_accuracy: 0.9240\n",
            "Epoch 37/50\n",
            "63/63 [==============================] - 1s 13ms/step - loss: 0.0537 - accuracy: 0.9840 - val_loss: 0.3514 - val_accuracy: 0.9200\n",
            "Epoch 38/50\n",
            "63/63 [==============================] - 1s 13ms/step - loss: 0.0208 - accuracy: 0.9950 - val_loss: 0.3804 - val_accuracy: 0.9280\n",
            "Epoch 39/50\n",
            "63/63 [==============================] - 1s 12ms/step - loss: 0.0079 - accuracy: 0.9970 - val_loss: 0.4240 - val_accuracy: 0.9240\n",
            "Epoch 40/50\n",
            "63/63 [==============================] - 1s 13ms/step - loss: 0.0297 - accuracy: 0.9910 - val_loss: 0.3222 - val_accuracy: 0.9280\n",
            "Epoch 41/50\n",
            "63/63 [==============================] - 1s 12ms/step - loss: 0.0242 - accuracy: 0.9900 - val_loss: 0.3357 - val_accuracy: 0.9380\n",
            "Epoch 42/50\n",
            "63/63 [==============================] - 1s 12ms/step - loss: 0.0162 - accuracy: 0.9970 - val_loss: 0.4248 - val_accuracy: 0.9140\n",
            "Epoch 43/50\n",
            "63/63 [==============================] - 1s 13ms/step - loss: 0.0294 - accuracy: 0.9910 - val_loss: 0.3500 - val_accuracy: 0.9200\n",
            "Epoch 44/50\n",
            "63/63 [==============================] - 1s 13ms/step - loss: 0.0043 - accuracy: 1.0000 - val_loss: 0.4027 - val_accuracy: 0.9220\n",
            "Epoch 45/50\n",
            "63/63 [==============================] - 1s 13ms/step - loss: 0.0015 - accuracy: 1.0000 - val_loss: 0.3857 - val_accuracy: 0.9380\n",
            "Epoch 46/50\n",
            "63/63 [==============================] - 1s 12ms/step - loss: 0.0014 - accuracy: 1.0000 - val_loss: 0.3767 - val_accuracy: 0.9360\n",
            "Epoch 47/50\n",
            "63/63 [==============================] - 1s 13ms/step - loss: 6.4712e-04 - accuracy: 1.0000 - val_loss: 0.3792 - val_accuracy: 0.9340\n",
            "Epoch 48/50\n",
            "63/63 [==============================] - 1s 12ms/step - loss: 0.0083 - accuracy: 0.9980 - val_loss: 0.3396 - val_accuracy: 0.9460\n",
            "Epoch 49/50\n",
            "63/63 [==============================] - 1s 12ms/step - loss: 0.0312 - accuracy: 0.9920 - val_loss: 0.4798 - val_accuracy: 0.9220\n",
            "Epoch 50/50\n",
            "63/63 [==============================] - 1s 12ms/step - loss: 0.0859 - accuracy: 0.9740 - val_loss: 0.3765 - val_accuracy: 0.9200\n",
            "16/16 [==============================] - 0s 6ms/step - loss: 0.4600 - accuracy: 0.9140\n",
            "Test Accuracy: 91.399997\n",
            "[[50  0  0  0  0  0  0  0  0  0]\n",
            " [ 0 42  2  6  0  0  0  0  0  0]\n",
            " [ 0  1 36  5  0  1  1  0  0  6]\n",
            " [ 0  4  7 36  0  0  0  0  0  3]\n",
            " [ 0  0  0  0 49  0  1  0  0  0]\n",
            " [ 0  0  0  0  0 48  0  0  0  2]\n",
            " [ 0  0  1  0  0  0 48  0  0  1]\n",
            " [ 0  0  0  0  0  0  0 50  0  0]\n",
            " [ 0  0  0  0  0  1  0  0 49  0]\n",
            " [ 0  0  0  0  0  1  0  0  0 49]]\n"
          ]
        }
      ]
    }
  ]
}